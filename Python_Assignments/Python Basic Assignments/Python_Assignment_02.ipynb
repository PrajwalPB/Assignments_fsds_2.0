{
 "cells": [
  {
   "cell_type": "markdown",
   "id": "0c273a6d",
   "metadata": {},
   "source": [
    "1.What are the two values of the Boolean data type? How do you write them?"
   ]
  },
  {
   "cell_type": "markdown",
   "id": "1a88206e",
   "metadata": {},
   "source": [
    "The two values are \"True \" and \"False \" . T is capital and rest is small case , same with false ,\n",
    "I can assign True or False to a variable , eg a = True , a will contain true"
   ]
  },
  {
   "cell_type": "markdown",
   "id": "0396fb97",
   "metadata": {},
   "source": [
    "2. What are the three different types of Boolean operators?"
   ]
  },
  {
   "cell_type": "markdown",
   "id": "401ab0c5",
   "metadata": {},
   "source": [
    "and , or , not "
   ]
  },
  {
   "cell_type": "markdown",
   "id": "e0ba16f1",
   "metadata": {},
   "source": [
    "3. Make a list of each Boolean operator's truth tables (i.e. every possible combination of Boolean values for the operator and what it evaluate )."
   ]
  },
  {
   "cell_type": "markdown",
   "id": "4aa0e7e6",
   "metadata": {},
   "source": [
    "and Table                \n",
    "True and True is True\n",
    "True and False is False\n",
    "False and True is False\n",
    "False and False is False\n",
    "\n",
    "or Table\n",
    "True or True is True\n",
    "True or False is True\n",
    "False or True is True\n",
    "False or False is False\n",
    "\n",
    "not Table\n",
    "not of True is False\n",
    "not of False is True\n"
   ]
  },
  {
   "cell_type": "markdown",
   "id": "c603742a",
   "metadata": {},
   "source": [
    "4. What are the values of the following expressions?\n",
    "\n"
   ]
  },
  {
   "cell_type": "code",
   "execution_count": null,
   "id": "bc0f2709",
   "metadata": {},
   "outputs": [],
   "source": [
    "#(5 > 4) and (3 == 5)  ans = false\n",
    "#not (5 > 4)  ans = False\n",
    "#(5 > 4) or (3 == 5) and = True\n",
    "#not ((5 > 4) or (3 == 5)) ans = False\n",
    "#(True and True) and (True == False) ans = False\n",
    "#(not False) or (not True) ans = True\n"
   ]
  },
  {
   "cell_type": "markdown",
   "id": "7361f053",
   "metadata": {},
   "source": [
    "5. What are the six comparison operators?"
   ]
  },
  {
   "cell_type": "code",
   "execution_count": null,
   "id": "9e0799db",
   "metadata": {},
   "outputs": [],
   "source": [
    "==(is equal to) , <(less than) ,>(greater than),<=(less than equal to) ,>=(greater than equal to),!=(not equal to)"
   ]
  },
  {
   "cell_type": "markdown",
   "id": "a6dda875",
   "metadata": {},
   "source": [
    "6. How do you tell the difference between the equal to and assignment operators?Describe a condition and when you would use one.\n"
   ]
  },
  {
   "cell_type": "code",
   "execution_count": null,
   "id": "2f40f0d4",
   "metadata": {},
   "outputs": [],
   "source": [
    "The assignment operator consist of single \"=\" it is used to assign a value to a variable \n",
    "whereas equal to is double \"==\" ,and used to compare two values "
   ]
  },
  {
   "cell_type": "markdown",
   "id": "206f44f0",
   "metadata": {},
   "source": [
    "7. Identify the three blocks in this code:\n",
    "\n",
    "spam = 0\n",
    "if spam == 10:\n",
    "print('eggs')\n",
    "if spam > 5:\n",
    "print('bacon')\n",
    "else:\n",
    "print('ham')\n",
    "print('spam')\n",
    "print('spam')\n"
   ]
  },
  {
   "cell_type": "code",
   "execution_count": null,
   "id": "c10e7c4a",
   "metadata": {},
   "outputs": [],
   "source": [
    "spam = 0\n",
    "if spam == 10:\n",
    "    print('eggs')\n",
    "    if spam > 5:\n",
    "        print('bacon')\n",
    "else:\n",
    "    print('ham')\n",
    "    print('spam')\n",
    "    print('spam')\n",
    "#Proper way of code ,all code is written inside the if statement , it should follow the idenatation "
   ]
  },
  {
   "cell_type": "markdown",
   "id": "9c1000a0",
   "metadata": {},
   "source": [
    "8. Write code that prints Hello if 1 is stored in spam, prints Howdy if 2 is stored in spam, and prints Greetings! if anything else is stored in spam."
   ]
  },
  {
   "cell_type": "code",
   "execution_count": 5,
   "id": "9ca39ca9",
   "metadata": {},
   "outputs": [
    {
     "name": "stdout",
     "output_type": "stream",
     "text": [
      "Enter the number5\n",
      "Greetings\n"
     ]
    }
   ],
   "source": [
    "spam = int(input(\"Enter the number\"))\n",
    "if spam == 1:\n",
    "    print(\"Hello\")\n",
    "elif spam == 2:\n",
    "    print(\"Howdy\")\n",
    "else:\n",
    "    print(\"Greetings\")\n",
    "    "
   ]
  },
  {
   "cell_type": "code",
   "execution_count": null,
   "id": "de51f331",
   "metadata": {},
   "outputs": [],
   "source": []
  }
 ],
 "metadata": {
  "kernelspec": {
   "display_name": "Python 3 (ipykernel)",
   "language": "python",
   "name": "python3"
  },
  "language_info": {
   "codemirror_mode": {
    "name": "ipython",
    "version": 3
   },
   "file_extension": ".py",
   "mimetype": "text/x-python",
   "name": "python",
   "nbconvert_exporter": "python",
   "pygments_lexer": "ipython3",
   "version": "3.9.12"
  }
 },
 "nbformat": 4,
 "nbformat_minor": 5
}
