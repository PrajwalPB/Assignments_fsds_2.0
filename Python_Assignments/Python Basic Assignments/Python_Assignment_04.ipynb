{
 "cells": [
  {
   "cell_type": "markdown",
   "id": "9d7fa41c",
   "metadata": {},
   "source": [
    "1. What exactly is []?"
   ]
  },
  {
   "cell_type": "markdown",
   "id": "e17c1378",
   "metadata": {},
   "source": [
    "[] it represented empty list value"
   ]
  },
  {
   "cell_type": "markdown",
   "id": "a38ec134",
   "metadata": {},
   "source": [
    "2. In a list of values stored in a variable called spam, how would you assign the value 'hello' as the third value? (Assume [2, 4, 6, 8, 10] are in spam.)Let's pretend the spam includes the list ['a', 'b', 'c', 'd'] for the next three queries."
   ]
  },
  {
   "cell_type": "markdown",
   "id": "9aec5368",
   "metadata": {},
   "source": [
    "There are two ways first one spam[2]='hello', it will replace third value 6 as hello\n",
    "Another way is spam.insert(2,'hello'),it will insert the element before the given ie 2 index and not replace value\n"
   ]
  },
  {
   "cell_type": "markdown",
   "id": "52203dcc",
   "metadata": {},
   "source": [
    "3. What is the value of spam[int(int('3' * 2) / 11)]?"
   ]
  },
  {
   "cell_type": "code",
   "execution_count": null,
   "id": "2d756cd8",
   "metadata": {},
   "outputs": [],
   "source": [
    "spam = ['a', 'b', 'c', 'd']\n",
    "spam[int(int('3' * 2) / 11)]\n",
    "\"\"\"it will give value as 3 so spam[3] is value 'd' ,  because the '3'*2 is basically string\n",
    "replication operation will give o/p as'33' and int of it will cover it to integer value 33\"\"\"\n"
   ]
  },
  {
   "cell_type": "markdown",
   "id": "00ebfa21",
   "metadata": {},
   "source": [
    "4. What is the value of spam[-1]?"
   ]
  },
  {
   "cell_type": "code",
   "execution_count": 34,
   "id": "118f16fb",
   "metadata": {},
   "outputs": [
    {
     "data": {
      "text/plain": [
       "'d'"
      ]
     },
     "execution_count": 34,
     "metadata": {},
     "output_type": "execute_result"
    }
   ],
   "source": [
    "spam=['a', 'b', 'c', 'd']\n",
    "spam[-1]"
   ]
  },
  {
   "cell_type": "markdown",
   "id": "5c985cdb",
   "metadata": {},
   "source": [
    "5. What is the value of spam[:2]?"
   ]
  },
  {
   "cell_type": "code",
   "execution_count": 43,
   "id": "fb8b78a3",
   "metadata": {},
   "outputs": [
    {
     "data": {
      "text/plain": [
       "['a', 'b']"
      ]
     },
     "execution_count": 43,
     "metadata": {},
     "output_type": "execute_result"
    }
   ],
   "source": [
    "spam=['a', 'b', 'c', 'd']\n",
    "spam[:2]"
   ]
  },
  {
   "cell_type": "markdown",
   "id": "eb967514",
   "metadata": {},
   "source": [
    "Let's pretend bacon has the list [3.14, 'cat,' 11, 'cat,' True] for the next three questions.\n",
    "6. What is the value of bacon.index('cat')?\n"
   ]
  },
  {
   "cell_type": "code",
   "execution_count": 53,
   "id": "cd60ae8c",
   "metadata": {},
   "outputs": [
    {
     "data": {
      "text/plain": [
       "1"
      ]
     },
     "execution_count": 53,
     "metadata": {},
     "output_type": "execute_result"
    }
   ],
   "source": [
    "bacon = [3.14, 'cat', 11, 'cat',True]\n",
    "bacon.index('cat')\n",
    "#It will always consider the first elemet in list if the same element is present at another index"
   ]
  },
  {
   "cell_type": "markdown",
   "id": "d8e7b8d5",
   "metadata": {},
   "source": [
    "7. How does bacon.append(99) change the look of the list value in bacon?"
   ]
  },
  {
   "cell_type": "code",
   "execution_count": 56,
   "id": "dea9257b",
   "metadata": {},
   "outputs": [
    {
     "data": {
      "text/plain": [
       "[3.14, 'cat', 11, 'cat', True, 99]"
      ]
     },
     "execution_count": 56,
     "metadata": {},
     "output_type": "execute_result"
    }
   ],
   "source": [
    "bacon = [3.14, 'cat', 11, 'cat',True]\n",
    "bacon.append(99)\n",
    "bacon\n",
    "#append function alwas append or add item in the end of the list"
   ]
  },
  {
   "cell_type": "markdown",
   "id": "373d1c33",
   "metadata": {},
   "source": [
    "8. How does bacon.remove('cat') change the look of the list in bacon?"
   ]
  },
  {
   "cell_type": "code",
   "execution_count": 60,
   "id": "720f0eca",
   "metadata": {},
   "outputs": [
    {
     "data": {
      "text/plain": [
       "[3.14, 11, 'cat', True]"
      ]
     },
     "execution_count": 60,
     "metadata": {},
     "output_type": "execute_result"
    }
   ],
   "source": [
    "bacon = [3.14, 'cat', 11, 'cat',True]\n",
    "bacon.remove('cat')\n",
    "bacon\n",
    "#remove function will always remove the first occurence of the element"
   ]
  },
  {
   "cell_type": "markdown",
   "id": "cfd049e0",
   "metadata": {},
   "source": [
    "9. What are the list concatenation and list replication operators?"
   ]
  },
  {
   "cell_type": "markdown",
   "id": "972d9808",
   "metadata": {},
   "source": [
    "The list concatenation operator is '+' , The list replication operator is '*'"
   ]
  },
  {
   "cell_type": "markdown",
   "id": "09345431",
   "metadata": {},
   "source": [
    "10. What is difference between the list methods append() and insert()?"
   ]
  },
  {
   "cell_type": "markdown",
   "id": "f1c7e949",
   "metadata": {},
   "source": [
    "append() always append the element in the end of the list and insert() will insert element \n",
    "before the given index"
   ]
  },
  {
   "cell_type": "markdown",
   "id": "08ab9eb5",
   "metadata": {},
   "source": [
    "11. What are the two methods for removing items from a list?"
   ]
  },
  {
   "cell_type": "markdown",
   "id": "73f94d83",
   "metadata": {},
   "source": [
    "1) remove() will always remove the first occurence from the list\n",
    "2)The second method is to use pop() withought passing the index value it will remove the \n",
    "last elemt from the list , passing the index value it will remove the element from the given index \n",
    "and will return the value"
   ]
  },
  {
   "cell_type": "markdown",
   "id": "7eafe298",
   "metadata": {},
   "source": [
    "12. Describe how list values and string values are identical."
   ]
  },
  {
   "cell_type": "markdown",
   "id": "aebcb0fe",
   "metadata": {},
   "source": [
    "Both list and Strings have length and indexes , Both list and Strings can be concatinated \n",
    "both can be used in for loops both are iterable , duplicating and slicing operations can be perforemd \n",
    "on both"
   ]
  },
  {
   "cell_type": "markdown",
   "id": "ebc21457",
   "metadata": {},
   "source": [
    "13. What's the difference between tuples and lists?"
   ]
  },
  {
   "cell_type": "markdown",
   "id": "a7d41476",
   "metadata": {},
   "source": [
    "List are mutable that is the values can be changes , add or removed . while tuples are immutable \n",
    "the values cannot be changed . The list is represented by square brackets[] while tuppels are represented\n",
    "by ()"
   ]
  },
  {
   "cell_type": "markdown",
   "id": "c5c2ffb4",
   "metadata": {},
   "source": [
    "14. How do you type a tuple value that only contains the integer 42?"
   ]
  },
  {
   "cell_type": "code",
   "execution_count": 84,
   "id": "124fb82b",
   "metadata": {},
   "outputs": [],
   "source": [
    "t = (34,) # if comma is not added afetr the element python will not recognize it as tuple it \n",
    "#consider its type as int"
   ]
  },
  {
   "cell_type": "markdown",
   "id": "e0525496",
   "metadata": {},
   "source": [
    "15. How do you get a list value's tuple form? How do you get a tuple value's list form?"
   ]
  },
  {
   "cell_type": "markdown",
   "id": "40e01f7d",
   "metadata": {},
   "source": [
    "to get list values tuple form use function tuple()\n",
    "to get tuple values list form use function list()"
   ]
  },
  {
   "cell_type": "markdown",
   "id": "3ef1edb3",
   "metadata": {},
   "source": [
    "16. Variables that \"contain\" list values are not necessarily lists themselves. Instead, what do they contain?"
   ]
  },
  {
   "cell_type": "markdown",
   "id": "e28ac7bb",
   "metadata": {},
   "source": [
    "They contain references to list values"
   ]
  },
  {
   "cell_type": "markdown",
   "id": "d1acbf83",
   "metadata": {},
   "source": [
    "17. How do you distinguish between copy.copy() and copy.deepcopy()?"
   ]
  },
  {
   "cell_type": "markdown",
   "id": "f4dd7e2d",
   "metadata": {},
   "source": [
    "The copy.copy() operation will perform shallow copy and copy.deepcopy() will create a deepcopy()\n",
    "in case of a signle dimension list changs done in copied list will not update the orignal list in this scenario its same as deepcopy operation ,But in case of multidimensional list shallow copy wont work changes gets reflected into original list Here the deep copy coes into picture and changes done in deppcopy is not reflected to original copy basically a new memory location is alloted "
   ]
  },
  {
   "cell_type": "code",
   "execution_count": null,
   "id": "d7e815e5",
   "metadata": {},
   "outputs": [],
   "source": []
  },
  {
   "cell_type": "code",
   "execution_count": null,
   "id": "e383d4ed",
   "metadata": {},
   "outputs": [],
   "source": []
  }
 ],
 "metadata": {
  "kernelspec": {
   "display_name": "Python 3 (ipykernel)",
   "language": "python",
   "name": "python3"
  },
  "language_info": {
   "codemirror_mode": {
    "name": "ipython",
    "version": 3
   },
   "file_extension": ".py",
   "mimetype": "text/x-python",
   "name": "python",
   "nbconvert_exporter": "python",
   "pygments_lexer": "ipython3",
   "version": "3.9.12"
  }
 },
 "nbformat": 4,
 "nbformat_minor": 5
}
