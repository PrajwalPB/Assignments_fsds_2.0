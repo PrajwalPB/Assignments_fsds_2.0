{
 "cells": [
  {
   "cell_type": "code",
   "execution_count": null,
   "id": "a47bb604",
   "metadata": {},
   "outputs": [],
   "source": [
    "1. What advantages do Excel spreadsheets have over CSV spreadsheets?"
   ]
  },
  {
   "cell_type": "code",
   "execution_count": null,
   "id": "9062dc33",
   "metadata": {},
   "outputs": [],
   "source": [
    "Excel spreadshets are better for storing more complex data than csv CSV format is a plain text format \n",
    "in which values are separated by commas (Comma Separated Values), while XLS file format is an Excel Sheets binary file format\n",
    "which holds information about all the worksheets in a file, including both content and formatting.\n",
    "In excel spreadsheets the operations on data can also be perforemed using formulas"
   ]
  },
  {
   "cell_type": "code",
   "execution_count": null,
   "id": "ccc9218b",
   "metadata": {},
   "outputs": [],
   "source": [
    "2.What do you pass to csv.reader() and csv.writer() to create reader and writer objects?"
   ]
  },
  {
   "cell_type": "code",
   "execution_count": 1,
   "id": "ed4b9b88",
   "metadata": {},
   "outputs": [
    {
     "name": "stdout",
     "output_type": "stream",
     "text": [
      "['hello there i am prajwal']\n"
     ]
    }
   ],
   "source": [
    "import csv\n",
    "with open(\"assignment.csv\",'r') as file:\n",
    "    assignment_file = csv.reader(file)\n",
    "    for i in assignment_file:\n",
    "        print(i)\n",
    "#Here file object is passed to csv.reader \n",
    "#First, call open() and pass it 'w' to open a file in write mode and 'r ' to open file in read mode\n",
    "# This will create the object you can then pass to csv. writer() "
   ]
  },
  {
   "cell_type": "code",
   "execution_count": null,
   "id": "33267b62",
   "metadata": {},
   "outputs": [],
   "source": [
    "3. What modes do File objects for reader and writer objects need to be opened in?"
   ]
  },
  {
   "cell_type": "code",
   "execution_count": null,
   "id": "219292bb",
   "metadata": {},
   "outputs": [],
   "source": [
    "For csv.reader the file objects needed to be opened in read mode mode='r'\n",
    "Whereas for csv.writer the file objects needed to be opened in write mode mode='w'"
   ]
  },
  {
   "cell_type": "code",
   "execution_count": null,
   "id": "037876b8",
   "metadata": {},
   "outputs": [],
   "source": [
    "4. What method takes a list argument and writes it to a CSV file?"
   ]
  },
  {
   "cell_type": "code",
   "execution_count": null,
   "id": "29eb7665",
   "metadata": {},
   "outputs": [],
   "source": [
    "csv.writer class provides two methods for writing to CSV. They are writerow() and writerows(). writerow() method writes a single row at a time. \n",
    "Whereas writerows() method is used to write multiple rows at a time."
   ]
  },
  {
   "cell_type": "code",
   "execution_count": null,
   "id": "5aa97aaa",
   "metadata": {},
   "outputs": [],
   "source": [
    "5. What do the keyword arguments delimiter and line terminator do?"
   ]
  },
  {
   "cell_type": "code",
   "execution_count": 19,
   "id": "06121c9f",
   "metadata": {},
   "outputs": [
    {
     "name": "stdout",
     "output_type": "stream",
     "text": [
      "['hello', 'there', 'i', 'am', 'prajwal', 'I', 'am', 'working', 'in', 'Ineuron', 'I', 'am', 'here', 'as', 'an', 'Intern']\n"
     ]
    }
   ],
   "source": [
    "import csv\n",
    "with open(\"assignment.csv\",'r') as file:\n",
    "    assignment_file = csv.reader(file,delimiter=' ')\n",
    "    for i in assignment_file:\n",
    "        print(i)\n",
    "# delimiter is used to sperate words of lines you can yous commas , spce , fullstop etc\n",
    "# Line Terminator comes at end of line by default it is newline and can be changed accourding to Requirement."
   ]
  },
  {
   "cell_type": "code",
   "execution_count": null,
   "id": "6a523ca6",
   "metadata": {},
   "outputs": [],
   "source": [
    "6. What function takes a string of JSON data and returns a Python data structure?"
   ]
  },
  {
   "cell_type": "code",
   "execution_count": 30,
   "id": "5b44c555",
   "metadata": {},
   "outputs": [
    {
     "name": "stdout",
     "output_type": "stream",
     "text": [
      "The json data is {\n",
      "    \"Name\": \"Prajwal\",\n",
      "    \"work\": \"intern\",\n",
      "    \"age\": \"22\"\n",
      "}\n",
      "New data is {'Name': 'Prajwal', 'work': 'intern', 'age': '22'}\n"
     ]
    }
   ],
   "source": [
    "#loads() method return Python data structure of JSON string or data.\n",
    "import json\n",
    "data ='''{\n",
    "    \"Name\": \"Prajwal\",\n",
    "    \"work\": \"intern\",\n",
    "    \"age\": \"22\"\n",
    "}'''\n",
    "print(f'The json data is {data}')\n",
    "\n",
    "new_data  = json.loads(data)\n",
    "print(f'New data is {new_data}')\n",
    "#here the new data is in the form of dictionary which is converted form the json format"
   ]
  },
  {
   "cell_type": "code",
   "execution_count": null,
   "id": "02e83d38",
   "metadata": {},
   "outputs": [],
   "source": [
    "7. What function takes a Python data structure and returns a string of JSON data"
   ]
  },
  {
   "cell_type": "code",
   "execution_count": 36,
   "id": "6c341e9e",
   "metadata": {},
   "outputs": [
    {
     "name": "stdout",
     "output_type": "stream",
     "text": [
      "{\n",
      "     \"Name\": \"Prajwal\",\n",
      "     \"work\": \"intern\",\n",
      "     \"age\": \"22\"\n",
      "}\n"
     ]
    }
   ],
   "source": [
    "#If you have a Python object, you can convert it into a JSON string by using the json.dumps() method.\n",
    "import json\n",
    "d ={'Name': 'Prajwal', 'work': 'intern', 'age': '22'}\n",
    "json_data = json.dumps(d , indent= 5)\n",
    "print(json_data)"
   ]
  },
  {
   "cell_type": "code",
   "execution_count": null,
   "id": "921d1b0a",
   "metadata": {},
   "outputs": [],
   "source": []
  }
 ],
 "metadata": {
  "kernelspec": {
   "display_name": "Python 3 (ipykernel)",
   "language": "python",
   "name": "python3"
  },
  "language_info": {
   "codemirror_mode": {
    "name": "ipython",
    "version": 3
   },
   "file_extension": ".py",
   "mimetype": "text/x-python",
   "name": "python",
   "nbconvert_exporter": "python",
   "pygments_lexer": "ipython3",
   "version": "3.9.13"
  }
 },
 "nbformat": 4,
 "nbformat_minor": 5
}
