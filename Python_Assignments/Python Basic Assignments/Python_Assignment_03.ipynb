{
 "cells": [
  {
   "cell_type": "markdown",
   "id": "4adb0984",
   "metadata": {},
   "source": [
    "1. Why are functions advantageous to have in your programs?"
   ]
  },
  {
   "cell_type": "markdown",
   "id": "b41ae590",
   "metadata": {},
   "source": [
    "Functions helps in code reusability , ypu don't have to write same code again again with the help of \n",
    "you can achieve the same task just by caling the function"
   ]
  },
  {
   "cell_type": "markdown",
   "id": "724cef56",
   "metadata": {},
   "source": [
    "2. When does the code in a function run: when it's specified or when it's called?"
   ]
  },
  {
   "cell_type": "markdown",
   "id": "245541a6",
   "metadata": {},
   "source": [
    "The code in the function runs when the function is called"
   ]
  },
  {
   "cell_type": "markdown",
   "id": "3ce0f6ba",
   "metadata": {},
   "source": [
    "3. What statement creates a function?"
   ]
  },
  {
   "cell_type": "markdown",
   "id": "fafc94c7",
   "metadata": {},
   "source": [
    "The \"def\" statement creates a function"
   ]
  },
  {
   "cell_type": "markdown",
   "id": "93ff132e",
   "metadata": {},
   "source": [
    "4. What is the difference between a function and a function call?"
   ]
  },
  {
   "cell_type": "markdown",
   "id": "296b8833",
   "metadata": {},
   "source": [
    "A function is block of statement that executes a specif task and returns a value which is created using def statement\n",
    "A function call is what arguments or control to function it evaluates and returns a value"
   ]
  },
  {
   "cell_type": "markdown",
   "id": "4e01c701",
   "metadata": {},
   "source": [
    "5. How many global scopes are there in a Python program? How many local scopes?"
   ]
  },
  {
   "cell_type": "markdown",
   "id": "fc553f3b",
   "metadata": {},
   "source": [
    "There is one global scope, and a local scope in pyhton"
   ]
  },
  {
   "cell_type": "markdown",
   "id": "a681ee68",
   "metadata": {},
   "source": [
    "6. What happens to variables in a local scope when the function call returns?"
   ]
  },
  {
   "cell_type": "markdown",
   "id": "ac195637",
   "metadata": {},
   "source": [
    "When the function call returns the local variables are destroyed"
   ]
  },
  {
   "cell_type": "markdown",
   "id": "153e35a4",
   "metadata": {},
   "source": [
    "7. What is the concept of a return value? Is it possible to have a return value in an expression?"
   ]
  },
  {
   "cell_type": "markdown",
   "id": "81af295f",
   "metadata": {},
   "source": [
    "A return value returns the value the function evaluates and it is possible to have a return value in epression"
   ]
  },
  {
   "cell_type": "markdown",
   "id": "e9aa7950",
   "metadata": {},
   "source": [
    "8. If a function does not have a return statement, what is the return value of a call to that function?"
   ]
  },
  {
   "cell_type": "markdown",
   "id": "1858a403",
   "metadata": {},
   "source": [
    "If a function does not have a return statement the return value is a none type"
   ]
  },
  {
   "cell_type": "markdown",
   "id": "0bc18276",
   "metadata": {},
   "source": [
    "9. How do you make a function variable refer to the global variable?"
   ]
  },
  {
   "cell_type": "markdown",
   "id": "9b3b65dc",
   "metadata": {},
   "source": [
    "global keyword will make function variable refer to the global variable"
   ]
  },
  {
   "cell_type": "markdown",
   "id": "b9e4c097",
   "metadata": {},
   "source": [
    "10. What is the data type of None?"
   ]
  },
  {
   "cell_type": "markdown",
   "id": "478911a3",
   "metadata": {},
   "source": [
    "The data type of none is None type"
   ]
  },
  {
   "cell_type": "markdown",
   "id": "f1f1fc5a",
   "metadata": {},
   "source": [
    "11. What does the sentence import areallyourpetsnamederic do?"
   ]
  },
  {
   "cell_type": "markdown",
   "id": "32652aab",
   "metadata": {},
   "source": [
    "The statement will import areallyourpetsnamederic module"
   ]
  },
  {
   "cell_type": "markdown",
   "id": "4078e77e",
   "metadata": {},
   "source": [
    "12. If you had a bacon() feature in a spam module, what would you call it after importing spam?"
   ]
  },
  {
   "cell_type": "markdown",
   "id": "40f40750",
   "metadata": {},
   "source": [
    "bacon() feature canbe called using , spam.bacon() after the spam is imported"
   ]
  },
  {
   "cell_type": "markdown",
   "id": "7d90f0a4",
   "metadata": {},
   "source": [
    "13. What can you do to save a programme from crashing if it encounters an error?"
   ]
  },
  {
   "cell_type": "markdown",
   "id": "5be30d32",
   "metadata": {},
   "source": [
    "We can use Exception handing  from crashing our programme , we can write our code or suspicious code \n",
    "inside the try block so whenever the error occurs our programme wont crash ."
   ]
  },
  {
   "cell_type": "markdown",
   "id": "87922aab",
   "metadata": {},
   "source": [
    "14. What is the purpose of the try clause? What is the purpose of the except clause?"
   ]
  },
  {
   "cell_type": "markdown",
   "id": "ca7fc15a",
   "metadata": {},
   "source": [
    "The code or suspicious code which can cause error is  written inside the try block \n",
    "The code that will execute after the error has occured is written inside the except block"
   ]
  },
  {
   "cell_type": "code",
   "execution_count": null,
   "id": "29e86acf",
   "metadata": {},
   "outputs": [],
   "source": []
  }
 ],
 "metadata": {
  "kernelspec": {
   "display_name": "Python 3 (ipykernel)",
   "language": "python",
   "name": "python3"
  },
  "language_info": {
   "codemirror_mode": {
    "name": "ipython",
    "version": 3
   },
   "file_extension": ".py",
   "mimetype": "text/x-python",
   "name": "python",
   "nbconvert_exporter": "python",
   "pygments_lexer": "ipython3",
   "version": "3.9.12"
  }
 },
 "nbformat": 4,
 "nbformat_minor": 5
}
