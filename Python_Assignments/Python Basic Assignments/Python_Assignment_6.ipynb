{
 "cells": [
  {
   "cell_type": "markdown",
   "id": "501721bf",
   "metadata": {},
   "source": [
    "1. What are escape characters, and how do you use them?"
   ]
  },
  {
   "cell_type": "markdown",
   "id": "da25591d",
   "metadata": {},
   "source": [
    "Escape characters are used to insert characters which are not allowed in string\n",
    "to use them we use backslash \\ followed by the character\n",
    "example:\n",
    "t = \"hello I am \\\"Prajwal\\\"\"\n",
    "print(t)"
   ]
  },
  {
   "cell_type": "markdown",
   "id": "91c3329e",
   "metadata": {},
   "source": [
    "2. What do the escape characters n and t stand for?"
   ]
  },
  {
   "cell_type": "markdown",
   "id": "18a23b59",
   "metadata": {},
   "source": [
    "n stands for new line \n",
    "t stands for tab "
   ]
  },
  {
   "cell_type": "markdown",
   "id": "e02e32f4",
   "metadata": {},
   "source": [
    "3. What is the way to include backslash characters in a string?"
   ]
  },
  {
   "cell_type": "code",
   "execution_count": 8,
   "id": "8d08ad5c",
   "metadata": {},
   "outputs": [
    {
     "name": "stdout",
     "output_type": "stream",
     "text": [
      "hello I am \"Prajwal\"\n",
      "\n"
     ]
    }
   ],
   "source": [
    "Use \\ folllowed by the character\n",
    "t = \"hello I am \\\"Prajwal\\\"\\n\"\n",
    "print(t)"
   ]
  },
  {
   "cell_type": "markdown",
   "id": "2662d61d",
   "metadata": {},
   "source": [
    "4. The string \"Howl's Moving Castle\" is a correct value.\n",
    "Why isn't the single quote character in the word Howl's not escaped a problem?"
   ]
  },
  {
   "cell_type": "markdown",
   "id": "60c52da0",
   "metadata": {},
   "source": [
    "\"Howl's Moving Castle\" is a correct because we are starting the string with doubl quotes and\n",
    "ending the string with double quotes"
   ]
  },
  {
   "cell_type": "markdown",
   "id": "6aa64b6d",
   "metadata": {},
   "source": [
    "5. How do you write a string of newlines if you don't want to use the n character?"
   ]
  },
  {
   "cell_type": "markdown",
   "id": "882b3f41",
   "metadata": {},
   "source": [
    "We can use tripple quotes \"\"\" \"\"\" also called as multiline string"
   ]
  },
  {
   "cell_type": "markdown",
   "id": "096fa118",
   "metadata": {},
   "source": [
    "6. What are the values of the given expressions?\n",
    "'Hello, world!'[1]\n",
    "'Hello, world!'[0:5]\n",
    "'Hello, world!'[:5]\n",
    "'Hello, world!'[3:]\n"
   ]
  },
  {
   "cell_type": "code",
   "execution_count": 20,
   "id": "dda5783a",
   "metadata": {},
   "outputs": [
    {
     "data": {
      "text/plain": [
       "'e'"
      ]
     },
     "execution_count": 20,
     "metadata": {},
     "output_type": "execute_result"
    }
   ],
   "source": [
    "'Hello, world!'[1] # printing the first index as mentioned"
   ]
  },
  {
   "cell_type": "code",
   "execution_count": 23,
   "id": "8912a6a7",
   "metadata": {},
   "outputs": [
    {
     "data": {
      "text/plain": [
       "'Hello'"
      ]
     },
     "execution_count": 23,
     "metadata": {},
     "output_type": "execute_result"
    }
   ],
   "source": [
    "'Hello, world!'[0:5]"
   ]
  },
  {
   "cell_type": "code",
   "execution_count": 24,
   "id": "6a339f20",
   "metadata": {},
   "outputs": [
    {
     "data": {
      "text/plain": [
       "'Hello'"
      ]
     },
     "execution_count": 24,
     "metadata": {},
     "output_type": "execute_result"
    }
   ],
   "source": [
    "'Hello, world!'[:5] # Starting index is 0 and printing till index 5"
   ]
  },
  {
   "cell_type": "code",
   "execution_count": 25,
   "id": "7305a465",
   "metadata": {},
   "outputs": [
    {
     "data": {
      "text/plain": [
       "'lo, world!'"
      ]
     },
     "execution_count": 25,
     "metadata": {},
     "output_type": "execute_result"
    }
   ],
   "source": [
    "'Hello, world!'[3:]# Starting index is 3 so it skipped 'hel' "
   ]
  },
  {
   "cell_type": "markdown",
   "id": "d9fd29a8",
   "metadata": {},
   "source": [
    "7. What are the values of the following expressions?\n",
    "'Hello'.upper()\n",
    "'Hello'.upper().isupper()\n",
    "'Hello'.upper().lower()\n"
   ]
  },
  {
   "cell_type": "code",
   "execution_count": 26,
   "id": "d70e36ca",
   "metadata": {},
   "outputs": [
    {
     "data": {
      "text/plain": [
       "'HELLO'"
      ]
     },
     "execution_count": 26,
     "metadata": {},
     "output_type": "execute_result"
    }
   ],
   "source": [
    "'hello'.upper() "
   ]
  },
  {
   "cell_type": "code",
   "execution_count": 29,
   "id": "a1a35856",
   "metadata": {},
   "outputs": [
    {
     "data": {
      "text/plain": [
       "True"
      ]
     },
     "execution_count": 29,
     "metadata": {},
     "output_type": "execute_result"
    }
   ],
   "source": [
    "'Hello'.upper().isupper()"
   ]
  },
  {
   "cell_type": "code",
   "execution_count": 31,
   "id": "5854c792",
   "metadata": {},
   "outputs": [
    {
     "data": {
      "text/plain": [
       "'hello'"
      ]
     },
     "execution_count": 31,
     "metadata": {},
     "output_type": "execute_result"
    }
   ],
   "source": [
    "'Hello'.upper().lower()"
   ]
  },
  {
   "cell_type": "markdown",
   "id": "e3230ec0",
   "metadata": {},
   "source": [
    "8. What are the values of the following expressions?\n",
    "'Remember, remember, the fifth of July.'.split()\n",
    "'-'.join('There can only one.'.split())\n"
   ]
  },
  {
   "cell_type": "code",
   "execution_count": 33,
   "id": "c98e2c88",
   "metadata": {},
   "outputs": [
    {
     "data": {
      "text/plain": [
       "['Remember,', 'remember,', 'the', 'fifth', 'of', 'July.']"
      ]
     },
     "execution_count": 33,
     "metadata": {},
     "output_type": "execute_result"
    }
   ],
   "source": [
    "'Remember, remember, the fifth of July.'.split()"
   ]
  },
  {
   "cell_type": "code",
   "execution_count": 34,
   "id": "3f5b2c68",
   "metadata": {},
   "outputs": [
    {
     "data": {
      "text/plain": [
       "'There-can-only-one.'"
      ]
     },
     "execution_count": 34,
     "metadata": {},
     "output_type": "execute_result"
    }
   ],
   "source": [
    "'-'.join('There can only one.'.split())"
   ]
  },
  {
   "cell_type": "markdown",
   "id": "5003cacc",
   "metadata": {},
   "source": [
    "9. What are the methods for right-justifying, left-justifying, and centering a string?"
   ]
  },
  {
   "cell_type": "code",
   "execution_count": null,
   "id": "75349ba7",
   "metadata": {},
   "outputs": [],
   "source": [
    "rjust() --right-justifying\n",
    "ljust() --left-justifying\n",
    "center()--centering"
   ]
  },
  {
   "cell_type": "markdown",
   "id": "d89d71eb",
   "metadata": {},
   "source": [
    "10. What is the best way to remove whitespace characters from the start or end?"
   ]
  },
  {
   "cell_type": "code",
   "execution_count": null,
   "id": "fe8b0500",
   "metadata": {},
   "outputs": [],
   "source": [
    "Use lstrip() to remove space from the start of string , use rstrip to remove the\n",
    "space from the right side of the string and use strip to remove from oth start and end of String"
   ]
  },
  {
   "cell_type": "code",
   "execution_count": null,
   "id": "72e67c97",
   "metadata": {},
   "outputs": [],
   "source": []
  },
  {
   "cell_type": "code",
   "execution_count": null,
   "id": "ad106c92",
   "metadata": {},
   "outputs": [],
   "source": []
  }
 ],
 "metadata": {
  "kernelspec": {
   "display_name": "Python 3 (ipykernel)",
   "language": "python",
   "name": "python3"
  },
  "language_info": {
   "codemirror_mode": {
    "name": "ipython",
    "version": 3
   },
   "file_extension": ".py",
   "mimetype": "text/x-python",
   "name": "python",
   "nbconvert_exporter": "python",
   "pygments_lexer": "ipython3",
   "version": "3.9.12"
  }
 },
 "nbformat": 4,
 "nbformat_minor": 5
}
