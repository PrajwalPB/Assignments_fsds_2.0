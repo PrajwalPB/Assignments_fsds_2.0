{
 "cells": [
  {
   "cell_type": "markdown",
   "id": "e8f28ab3",
   "metadata": {},
   "source": [
    "1. What is the name of the feature responsible for generating Regex objects?"
   ]
  },
  {
   "cell_type": "markdown",
   "id": "c3432880",
   "metadata": {},
   "source": [
    "The name of the feature that is responsible for Regex objects is re.compile() methods which returns\n",
    "regex objects"
   ]
  },
  {
   "cell_type": "markdown",
   "id": "ac488081",
   "metadata": {},
   "source": [
    "2. Why do raw strings often appear in Regex objects?"
   ]
  },
  {
   "cell_type": "markdown",
   "id": "924abc47",
   "metadata": {},
   "source": [
    "Raw strings often appear in Regex objects because , if we print(\\n) it will print next line\n",
    "but if we print(r\"\\n) it will print \\n , raw strings are used to print escape characters"
   ]
  },
  {
   "cell_type": "markdown",
   "id": "9afde792",
   "metadata": {},
   "source": [
    "3. What is the return value of the search() method?"
   ]
  },
  {
   "cell_type": "markdown",
   "id": "1b55c2a9",
   "metadata": {},
   "source": [
    "The search() method searchs the string looking for a match and if the math is found it \n",
    "returns the corresponding match object"
   ]
  },
  {
   "cell_type": "code",
   "execution_count": 7,
   "id": "023fe34b",
   "metadata": {},
   "outputs": [
    {
     "name": "stdout",
     "output_type": "stream",
     "text": [
      "<re.Match object; span=(8, 10), match='am'>\n"
     ]
    }
   ],
   "source": [
    "#for example\n",
    "import re\n",
    "mystring = \"hello i am completing ineuron assignments\"\n",
    "pattern = re.compile(r'am')\n",
    "match = pattern.search(mystring)\n",
    "print(match)\n"
   ]
  },
  {
   "cell_type": "markdown",
   "id": "f8248e55",
   "metadata": {},
   "source": [
    "4. From a Match item, how do you get the actual strings that match the pattern?"
   ]
  },
  {
   "cell_type": "markdown",
   "id": "6904455c",
   "metadata": {},
   "source": [
    "By using the group() method , it returns the matched  string "
   ]
  },
  {
   "cell_type": "markdown",
   "id": "d165cb23",
   "metadata": {},
   "source": [
    "5. In the regex which created from the r'(\\d\\d\\d)-(\\d\\d\\d-\\d\\d\\d\\d)', what does group zero cover? Group 2? Group 1?"
   ]
  },
  {
   "cell_type": "markdown",
   "id": "fa41cf74",
   "metadata": {},
   "source": [
    "Group 0 is the entire match, group 1 covers the first set of parentheses, and group 2 covers the second set of parentheses."
   ]
  },
  {
   "cell_type": "markdown",
   "id": "66a43374",
   "metadata": {},
   "source": [
    "6. In standard expression syntax, parentheses and intervals have distinct meanings. How can you tell a regex that you want it to fit real parentheses and periods?"
   ]
  },
  {
   "cell_type": "markdown",
   "id": "9dc6404b",
   "metadata": {},
   "source": [
    "Periods and parentheses can be escaped with a backslash: \\"
   ]
  },
  {
   "cell_type": "markdown",
   "id": "4bb1f0b5",
   "metadata": {},
   "source": [
    "7. The findall() method returns a string list or a list of string tuples. What causes it to return one of the two options?"
   ]
  },
  {
   "cell_type": "markdown",
   "id": "ade3b290",
   "metadata": {},
   "source": [
    "If the regex has no groups, a list of strings is returned. If the regex has groups, a list of tuples of strings is returned."
   ]
  },
  {
   "cell_type": "markdown",
   "id": "a7332453",
   "metadata": {},
   "source": [
    "8. In standard expressions, what does the | character mean?"
   ]
  },
  {
   "cell_type": "markdown",
   "id": "9119fb24",
   "metadata": {},
   "source": [
    "In standard expressions character | means either or"
   ]
  },
  {
   "cell_type": "markdown",
   "id": "fd20db8b",
   "metadata": {},
   "source": [
    "9. In regular expressions, what does the character stand for?"
   ]
  },
  {
   "cell_type": "markdown",
   "id": "3a48c5de",
   "metadata": {},
   "source": [
    " All characters, except those having special meaning in regex, matches themselves. for example 'x' matches x in string"
   ]
  },
  {
   "cell_type": "markdown",
   "id": "2224c802",
   "metadata": {},
   "source": [
    "10.In regular expressions, what is the difference between the + and * characters?"
   ]
  },
  {
   "cell_type": "markdown",
   "id": "656dedd7",
   "metadata": {},
   "source": [
    "IN regular expresions * represents  Zero or more occurrences and + represents  One or \n",
    "more occurrences"
   ]
  },
  {
   "cell_type": "markdown",
   "id": "c11575df",
   "metadata": {},
   "source": [
    "11. What is the difference between {4} and {4,5} in regular expression?"
   ]
  },
  {
   "cell_type": "markdown",
   "id": "fe13f4cd",
   "metadata": {},
   "source": [
    "The {4} matches exactly four instances of the preceding group. The {4,5} matches between four and five instances."
   ]
  },
  {
   "cell_type": "markdown",
   "id": "6d277b48",
   "metadata": {},
   "source": [
    "12. What do you mean by the \\d, \\w, and \\s shorthand character classes signify in regular expressions?"
   ]
  },
  {
   "cell_type": "markdown",
   "id": "304a1269",
   "metadata": {},
   "source": [
    "\\d Returns a match where the string contains digits (numbers from 0-9)\n",
    "\\W Returns a match where the string contain any word characters(characters from a to Z, digits from 0-9, and the underscore _ character)\n",
    "\\S Returns a match where the string contains a white space character\n"
   ]
  },
  {
   "cell_type": "markdown",
   "id": "9f7e25b6",
   "metadata": {},
   "source": [
    "13. What do means by \\D, \\W, and \\S shorthand character classes signify in regular expressions"
   ]
  },
  {
   "cell_type": "markdown",
   "id": "0c15508e",
   "metadata": {},
   "source": [
    "\\D Returns a match where the string DOES NOT contain digits\n",
    "\\W Returns a match where the string DOES NOT contain any word characters\n",
    "\\S Returns a match where the string DOES NOT contain a white space character"
   ]
  },
  {
   "cell_type": "markdown",
   "id": "a44e6192",
   "metadata": {},
   "source": [
    "14. What is the difference between .*? and .*?"
   ]
  },
  {
   "cell_type": "markdown",
   "id": "7c704125",
   "metadata": {},
   "source": [
    "The .* performs a greedy match, and the .*? performs a nongreedy match."
   ]
  },
  {
   "cell_type": "markdown",
   "id": "5818b720",
   "metadata": {},
   "source": [
    "15. What is the syntax for matching both numbers and lowercase letters with a character class?"
   ]
  },
  {
   "cell_type": "code",
   "execution_count": null,
   "id": "093c23ce",
   "metadata": {},
   "outputs": [],
   "source": [
    " [a-zA-Z0-9]"
   ]
  },
  {
   "cell_type": "markdown",
   "id": "12884c98",
   "metadata": {},
   "source": [
    "16. What is the procedure for making a normal expression in regax case insensitive?"
   ]
  },
  {
   "cell_type": "code",
   "execution_count": null,
   "id": "b938140f",
   "metadata": {},
   "outputs": [],
   "source": [
    "BY USING re.I or re.IGNORECASE as the second argument to re.compile() will make the matching case insensitive."
   ]
  },
  {
   "cell_type": "code",
   "execution_count": 9,
   "id": "0e192755",
   "metadata": {},
   "outputs": [
    {
     "name": "stdout",
     "output_type": "stream",
     "text": [
      "['P', 'p']\n"
     ]
    }
   ],
   "source": [
    "#for example\n",
    "s = \"hello i am PRAJWAL FROM ineuron fsds batch 2.o pp ff\"\n",
    "pattern = re.compile(r'\\bp',re.I)\n",
    "matches = pattern.findall(s)\n",
    "print(matches)"
   ]
  },
  {
   "cell_type": "markdown",
   "id": "867679b1",
   "metadata": {},
   "source": [
    "17. What does the . character normally match? What does it match if re.DOTALL is passed as 2nd argument in re.compile()?"
   ]
  },
  {
   "cell_type": "markdown",
   "id": "fba3e749",
   "metadata": {},
   "source": [
    "The . charcter will match Any character (except newline character) \n",
    "If re. DOTALL is passed as the second argument to re. compile(), then the dot will also match newline characters."
   ]
  },
  {
   "cell_type": "markdown",
   "id": "1547752a",
   "metadata": {},
   "source": [
    "18. If numReg = re.compile(r'\\d+'), what will numRegex.sub('X', '11 drummers, 10 pipers, five rings, 4 hen') return?"
   ]
  },
  {
   "cell_type": "code",
   "execution_count": 13,
   "id": "cd73fa59",
   "metadata": {},
   "outputs": [
    {
     "data": {
      "text/plain": [
       "'X drummers, X pipers, five rings, X hen'"
      ]
     },
     "execution_count": 13,
     "metadata": {},
     "output_type": "execute_result"
    }
   ],
   "source": [
    "import re\n",
    "numReg = re.compile(r'\\d+')\n",
    "numReg.sub('X', '11 drummers, 10 pipers, five rings, 4 hen')"
   ]
  },
  {
   "cell_type": "markdown",
   "id": "6933aebb",
   "metadata": {},
   "source": [
    "19. What does passing re.VERBOSE as the 2nd argument to re.compile() allow to do?"
   ]
  },
  {
   "cell_type": "markdown",
   "id": "9c2e8040",
   "metadata": {},
   "source": [
    "The re.VERBOSE argument allows you to add whitespace and comments to the string passed to re.compile()."
   ]
  },
  {
   "cell_type": "markdown",
   "id": "c72bcce6",
   "metadata": {},
   "source": [
    "20. How would you write a regex that match a number with comma for every three digits? It must match the given following:\n",
    "'42'\n",
    "'1,234'\n",
    "'6,368,745'\n",
    "but not the following:\n",
    "'12,34,567' (which has only two digits between the commas)\n",
    "'1234' (which lacks commas)\n"
   ]
  },
  {
   "cell_type": "markdown",
   "id": "b32aff23",
   "metadata": {},
   "source": [
    "import re\n",
    "pattern= re.compile((^\\d+(,\\d{3})*$))"
   ]
  },
  {
   "cell_type": "markdown",
   "id": "88c6116b",
   "metadata": {},
   "source": [
    "21. How would you write a regex that matches the full name of someone whose last name is Watanabe? You can assume that the first name that comes before it will always be one word that begins with a capital letter. The regex must match the following:\n",
    "'Haruto Watanabe'\n",
    "'Alice Watanabe'\n",
    "'RoboCop Watanabe'\n",
    "but not the following:\n",
    "'haruto Watanabe' (where the first name is not capitalized)\n",
    "'Mr. Watanabe' (where the preceding word has a nonletter character)\n",
    "'Watanabe' (which has no first name)\n",
    "'Haruto watanabe' (where Watanabe is not capitalized)\n"
   ]
  },
  {
   "cell_type": "code",
   "execution_count": null,
   "id": "5e7df291",
   "metadata": {},
   "outputs": [],
   "source": [
    "  pattern = re.compile(r'\\b[A-Z][a-zA-Z]+\\sWatanabe')"
   ]
  },
  {
   "cell_type": "markdown",
   "id": "46f688be",
   "metadata": {},
   "source": [
    "22. How would you write a regex that matches a sentence where the first word is either Alice, Bob, or Carol; the second word is either eats, pets, or throws; the third word is apples, cats, or baseballs; and the sentence ends with a period? This regex should be case-insensitive. It must match the following:\n",
    "'Alice eats apples.'\n",
    "'Bob pets cats.'\n",
    "'Carol throws baseballs.'\n",
    "'Alice throws Apples.'\n",
    "'BOB EATS CATS.'\n",
    "but not the following:\n",
    "'RoboCop eats apples.'\n",
    "'ALICE THROWS FOOTBALLS.'\n",
    "'Carol eats 7 cats.'\n"
   ]
  },
  {
   "cell_type": "markdown",
   "id": "07e6465a",
   "metadata": {},
   "source": [
    "pattern=re.compile(r'(Alice|Bob|Carol)\\s+(eats|pets|throws)\\s+(apples|cats|baseballs)\\.', re.IGNORECASE)"
   ]
  },
  {
   "cell_type": "code",
   "execution_count": null,
   "id": "7c1cbcc4",
   "metadata": {},
   "outputs": [],
   "source": []
  }
 ],
 "metadata": {
  "kernelspec": {
   "display_name": "Python 3 (ipykernel)",
   "language": "python",
   "name": "python3"
  },
  "language_info": {
   "codemirror_mode": {
    "name": "ipython",
    "version": 3
   },
   "file_extension": ".py",
   "mimetype": "text/x-python",
   "name": "python",
   "nbconvert_exporter": "python",
   "pygments_lexer": "ipython3",
   "version": "3.9.12"
  }
 },
 "nbformat": 4,
 "nbformat_minor": 5
}
