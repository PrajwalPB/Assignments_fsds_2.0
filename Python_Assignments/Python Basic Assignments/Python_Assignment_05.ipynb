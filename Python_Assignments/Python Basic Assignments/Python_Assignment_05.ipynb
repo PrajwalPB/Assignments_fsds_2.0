{
 "cells": [
  {
   "cell_type": "markdown",
   "id": "6dda65dc",
   "metadata": {},
   "source": [
    "1. What does an empty dictionary's code look like?"
   ]
  },
  {
   "cell_type": "code",
   "execution_count": 1,
   "id": "59b088eb",
   "metadata": {},
   "outputs": [],
   "source": [
    "d = {}  # An empty Dictionary"
   ]
  },
  {
   "cell_type": "markdown",
   "id": "ca62c445",
   "metadata": {},
   "source": [
    "2. What is the value of a dictionary value with the key 'foo' and the value 42?"
   ]
  },
  {
   "cell_type": "code",
   "execution_count": 3,
   "id": "15c861a6",
   "metadata": {},
   "outputs": [
    {
     "data": {
      "text/plain": [
       "dict_values([42])"
      ]
     },
     "execution_count": 3,
     "metadata": {},
     "output_type": "execute_result"
    }
   ],
   "source": [
    "d = {'foo': 42}\n",
    "d.values()\n",
    "#Value f dictionary {'foo':42}"
   ]
  },
  {
   "cell_type": "markdown",
   "id": "9577851d",
   "metadata": {},
   "source": [
    "3. What is the most significant distinction between a dictionary and a list?"
   ]
  },
  {
   "cell_type": "markdown",
   "id": "4a7a2a9d",
   "metadata": {},
   "source": [
    "List is created by [] ,  and dictionary is created by {}  the elements in dictionary is \n",
    "stored in a key value pair , The items in list are ordered while i dictionary is unordered"
   ]
  },
  {
   "cell_type": "markdown",
   "id": "1698f0ff",
   "metadata": {},
   "source": [
    "4. What happens if you try to access spam['foo'] if spam is {'bar': 100}?"
   ]
  },
  {
   "cell_type": "code",
   "execution_count": 5,
   "id": "8ce1cc38",
   "metadata": {},
   "outputs": [
    {
     "ename": "KeyError",
     "evalue": "100",
     "output_type": "error",
     "traceback": [
      "\u001b[1;31m---------------------------------------------------------------------------\u001b[0m",
      "\u001b[1;31mKeyError\u001b[0m                                  Traceback (most recent call last)",
      "Input \u001b[1;32mIn [5]\u001b[0m, in \u001b[0;36m<cell line: 2>\u001b[1;34m()\u001b[0m\n\u001b[0;32m      1\u001b[0m spam \u001b[38;5;241m=\u001b[39m {\u001b[38;5;124m\"\u001b[39m\u001b[38;5;124mbar\u001b[39m\u001b[38;5;124m\"\u001b[39m : \u001b[38;5;241m100\u001b[39m}\n\u001b[1;32m----> 2\u001b[0m \u001b[43mspam\u001b[49m\u001b[43m[\u001b[49m\u001b[38;5;241;43m100\u001b[39;49m\u001b[43m]\u001b[49m\n",
      "\u001b[1;31mKeyError\u001b[0m: 100"
     ]
    }
   ],
   "source": [
    "spam = {\"bar\" : 100}\n",
    "spam[100]\n",
    "# It will give a key Error"
   ]
  },
  {
   "cell_type": "markdown",
   "id": "ac63cf3b",
   "metadata": {},
   "source": [
    "5. If a dictionary is stored in spam, what is the difference between the expressions 'cat' in spam and 'cat' in spam.keys()?"
   ]
  },
  {
   "cell_type": "markdown",
   "id": "0609fb29",
   "metadata": {},
   "source": [
    "\n",
    "There is no difference between  both the expressions as both will check if the key is present \n",
    "in the dictionary or not .\n"
   ]
  },
  {
   "cell_type": "markdown",
   "id": "83a9fe1d",
   "metadata": {},
   "source": [
    "6. If a dictionary is stored in spam, what is the difference between the expressions 'cat' in spam and 'cat' in spam.values()?"
   ]
  },
  {
   "cell_type": "markdown",
   "id": "e36e7011",
   "metadata": {},
   "source": [
    "The expression cat in spam will cehck the \"key\" in dictionary if its present\n",
    "The expression cat in spam.values() will check the value of the key if its present in the dict"
   ]
  },
  {
   "cell_type": "markdown",
   "id": "1b1dcfea",
   "metadata": {},
   "source": [
    "7. What is a shortcut for the following code?\n",
    "if 'color' not in spam:\n",
    "spam['color'] = 'black'\n",
    " "
   ]
  },
  {
   "cell_type": "code",
   "execution_count": null,
   "id": "b88cabf8",
   "metadata": {},
   "outputs": [],
   "source": [
    "spam.setdefault('color':'black')"
   ]
  },
  {
   "cell_type": "markdown",
   "id": "70591805",
   "metadata": {},
   "source": [
    "8. How do you \"pretty print\" dictionary values using which module and function?"
   ]
  },
  {
   "cell_type": "code",
   "execution_count": 32,
   "id": "73428587",
   "metadata": {},
   "outputs": [],
   "source": [
    "import pprint\n",
    "print.pprint()"
   ]
  },
  {
   "cell_type": "code",
   "execution_count": null,
   "id": "9ab51c56",
   "metadata": {},
   "outputs": [],
   "source": []
  }
 ],
 "metadata": {
  "kernelspec": {
   "display_name": "Python 3 (ipykernel)",
   "language": "python",
   "name": "python3"
  },
  "language_info": {
   "codemirror_mode": {
    "name": "ipython",
    "version": 3
   },
   "file_extension": ".py",
   "mimetype": "text/x-python",
   "name": "python",
   "nbconvert_exporter": "python",
   "pygments_lexer": "ipython3",
   "version": "3.9.12"
  }
 },
 "nbformat": 4,
 "nbformat_minor": 5
}
