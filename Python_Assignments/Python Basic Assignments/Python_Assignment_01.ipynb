{
 "cells": [
  {
   "cell_type": "markdown",
   "id": "8083917f",
   "metadata": {},
   "source": [
    " 1. In the below elements which of them are values or an expression? eg:- values can be integer or string and expressions will be mathematical operators."
   ]
  },
  {
   "cell_type": "code",
   "execution_count": null,
   "id": "8dc5d485",
   "metadata": {},
   "outputs": [],
   "source": [
    "*       --Multiplication Operator\n",
    "'hello' -- String\n",
    "-87.8   --Integer\n",
    "-       --Mathematical Operator(Subtraction)\n",
    "/       --Mathematical Operator(Division,Gives quotient )\n",
    "+       --Mathematical Operatoe (addition)\n",
    "6       -- Integer\n"
   ]
  },
  {
   "cell_type": "markdown",
   "id": "242c63d7",
   "metadata": {},
   "source": [
    "2. What is the difference between string and variable?"
   ]
  },
  {
   "cell_type": "code",
   "execution_count": null,
   "id": "784ad904",
   "metadata": {},
   "outputs": [],
   "source": [
    "\"\"\"String is a dataype which hold group of charcters it is represented in single,double quotes,tripple quotes\n",
    "Variable are used to store data , eg string data can be stored in variable\"\"\""
   ]
  },
  {
   "cell_type": "markdown",
   "id": "a2c4ec84",
   "metadata": {},
   "source": [
    "3. Describe three different data types."
   ]
  },
  {
   "cell_type": "code",
   "execution_count": null,
   "id": "72c7ce5d",
   "metadata": {},
   "outputs": [],
   "source": [
    "Thre different data types are-\n",
    "1) Integer datatype --  It Consist of positive and negative Whole numbers (does not contain decimal values)\n",
    "2)String dataypex  -- It is group or sequence of characters\n",
    "3)Float datatype  -- It consist of decimal values\n",
    "4)Boolean dataype  -- It consist of only two values \"true or False\""
   ]
  },
  {
   "cell_type": "markdown",
   "id": "b4c97824",
   "metadata": {},
   "source": [
    "4. What is an expression made up of? What do all expressions do?"
   ]
  },
  {
   "cell_type": "code",
   "execution_count": null,
   "id": "4ad29239",
   "metadata": {},
   "outputs": [],
   "source": [
    "An expression is combination of variables , operands , constants ,operators that prodcues or generates a new value\n"
   ]
  },
  {
   "cell_type": "markdown",
   "id": "6c4d6352",
   "metadata": {},
   "source": [
    "5. This assignment statements, like spam = 10. What is the difference between an expression and a statement?"
   ]
  },
  {
   "cell_type": "code",
   "execution_count": null,
   "id": "58b8a7ff",
   "metadata": {},
   "outputs": [],
   "source": [
    "Here spam is variable which is given value 10 ie value 10 is assigned to variable spam,\n",
    "a expression is combination of variables , operators , constants that will poduce a new vaue\n",
    "Statement is unit of execution that will do not return a vaue"
   ]
  },
  {
   "cell_type": "markdown",
   "id": "3177fcac",
   "metadata": {},
   "source": [
    "6. After running the following code, what does the variable bacon contain?\n",
    "bacon = 22\n",
    "bacon + 1\n"
   ]
  },
  {
   "cell_type": "code",
   "execution_count": null,
   "id": "8bf601ed",
   "metadata": {},
   "outputs": [],
   "source": [
    "23"
   ]
  },
  {
   "cell_type": "markdown",
   "id": "fec79b84",
   "metadata": {},
   "source": [
    "7. What should the values of the following two terms be?\n",
    "'spam' + 'spamspam'\n",
    "'spam' * 3\n"
   ]
  },
  {
   "cell_type": "code",
   "execution_count": null,
   "id": "c21b7939",
   "metadata": {},
   "outputs": [],
   "source": [
    "'spam'+'spamspam' ='spamspamspam'\n",
    "'spam'*3 ='spamspamspam'"
   ]
  },
  {
   "cell_type": "markdown",
   "id": "a9367cef",
   "metadata": {},
   "source": [
    "8. Why is eggs a valid variable name while 100 is invalid?"
   ]
  },
  {
   "cell_type": "code",
   "execution_count": null,
   "id": "f0da613d",
   "metadata": {},
   "outputs": [],
   "source": [
    "There are some rules for settif a variable name one of them is \"A variable name vannot start with a number\""
   ]
  },
  {
   "cell_type": "markdown",
   "id": "ed6f48cd",
   "metadata": {},
   "source": [
    "9. What three functions can be used to get the integer, floating-point number, or string version of a value?"
   ]
  },
  {
   "cell_type": "code",
   "execution_count": null,
   "id": "3589fe8c",
   "metadata": {},
   "outputs": [],
   "source": [
    "int()\n",
    "float()\n",
    "str()\n"
   ]
  },
  {
   "cell_type": "markdown",
   "id": "16ba7a65",
   "metadata": {},
   "source": [
    "10. Why does this expression cause an error? How can you fix it?\n",
    "'I have eaten ' + 99 + ' burritos.'\n"
   ]
  },
  {
   "cell_type": "code",
   "execution_count": 14,
   "id": "2ccaa8c3",
   "metadata": {},
   "outputs": [
    {
     "data": {
      "text/plain": [
       "'I have eaten 99 burritos.'"
      ]
     },
     "execution_count": 14,
     "metadata": {},
     "output_type": "execute_result"
    }
   ],
   "source": [
    "'I have eaten ' + '99' + ' burritos.'\n",
    "#Its ausing an error because it cannot concatiate strig with int , to fix it put int in singe quotes it will treat it as string"
   ]
  },
  {
   "cell_type": "code",
   "execution_count": null,
   "id": "89e66e38",
   "metadata": {},
   "outputs": [],
   "source": []
  }
 ],
 "metadata": {
  "kernelspec": {
   "display_name": "Python 3 (ipykernel)",
   "language": "python",
   "name": "python3"
  },
  "language_info": {
   "codemirror_mode": {
    "name": "ipython",
    "version": 3
   },
   "file_extension": ".py",
   "mimetype": "text/x-python",
   "name": "python",
   "nbconvert_exporter": "python",
   "pygments_lexer": "ipython3",
   "version": "3.9.12"
  }
 },
 "nbformat": 4,
 "nbformat_minor": 5
}
