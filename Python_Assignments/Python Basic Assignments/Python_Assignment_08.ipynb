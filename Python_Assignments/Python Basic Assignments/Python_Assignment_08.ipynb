{
 "cells": [
  {
   "cell_type": "markdown",
   "id": "450eb299",
   "metadata": {},
   "source": [
    "1. Is the Python Standard Library included with PyInputPlus?"
   ]
  },
  {
   "cell_type": "markdown",
   "id": "2c635864",
   "metadata": {},
   "source": [
    "PyinputPlus is not included with Python Standard Library you have to install the package using pip install pyinput plus"
   ]
  },
  {
   "cell_type": "markdown",
   "id": "44845d89",
   "metadata": {},
   "source": [
    "2. Why is PyInputPlus commonly imported with import pyinputplus as pypi?"
   ]
  },
  {
   "cell_type": "markdown",
   "id": "c9dd0bc8",
   "metadata": {},
   "source": [
    "Because you can enter the shorter name while calling the function"
   ]
  },
  {
   "cell_type": "markdown",
   "id": "1b20afc9",
   "metadata": {},
   "source": [
    "3. How do you distinguish between inputInt() and inputFloat()?"
   ]
  },
  {
   "cell_type": "markdown",
   "id": "7c08b920",
   "metadata": {},
   "source": [
    "The inputint() function expects a integer value it will keep on asking user \n",
    "if a decimal value is entered , inputFloat() expects a floating value"
   ]
  },
  {
   "cell_type": "markdown",
   "id": "25a28162",
   "metadata": {},
   "source": [
    "4. Using PyInputPlus, how do you ensure that the user enters a whole number between 0 and 99?"
   ]
  },
  {
   "cell_type": "code",
   "execution_count": 10,
   "id": "5ce0da56",
   "metadata": {},
   "outputs": [
    {
     "name": "stdout",
     "output_type": "stream",
     "text": [
      "Enter the number100\n",
      "Number must be at maximum 99.\n",
      "Enter the number-1\n",
      "Number must be at minimum 0.\n",
      "Enter the number8\n"
     ]
    }
   ],
   "source": [
    "import pyinputplus as pyip\n",
    "num1 = pyip.inputInt('Enter the number',min = 0 , max = 99)"
   ]
  },
  {
   "cell_type": "markdown",
   "id": "82f322e5",
   "metadata": {},
   "source": [
    "5. What is transferred to the keyword arguments allowRegexes and blockRegexes?"
   ]
  },
  {
   "cell_type": "markdown",
   "id": "ab9ad141",
   "metadata": {},
   "source": [
    " A string is passed to allowRegexes or blockRegexes that ypu want to accept or deny"
   ]
  },
  {
   "cell_type": "code",
   "execution_count": 13,
   "id": "f5733fed",
   "metadata": {},
   "outputs": [
    {
     "name": "stdout",
     "output_type": "stream",
     "text": [
      "Enter the stringprajwal\n",
      "This response is invalid.\n",
      "Enter the stringppp\n"
     ]
    }
   ],
   "source": [
    "import pyinputplus as pyip\n",
    "str = pyip.inputStr(prompt =\"Enter the string\",blockRegexes = 'aeiou')"
   ]
  },
  {
   "cell_type": "markdown",
   "id": "e618c16d",
   "metadata": {},
   "source": [
    "6. If a blank input is entered three times, what does inputStr(limit=3) do?"
   ]
  },
  {
   "cell_type": "markdown",
   "id": "ed3473b2",
   "metadata": {},
   "source": [
    "It will Throw an Exception which RetryLimitException"
   ]
  },
  {
   "cell_type": "markdown",
   "id": "a2d08096",
   "metadata": {},
   "source": [
    "7. If blank input is entered three times, what does inputStr(limit=3, default='hello') do?"
   ]
  },
  {
   "cell_type": "code",
   "execution_count": 29,
   "id": "b8866a3c",
   "metadata": {},
   "outputs": [
    {
     "name": "stdout",
     "output_type": "stream",
     "text": [
      " \n",
      "Blank values are not allowed.\n",
      " \n",
      "Blank values are not allowed.\n",
      " \n",
      "Blank values are not allowed.\n"
     ]
    }
   ],
   "source": [
    "import pyinputplus as pyip\n",
    "name = pyip.inputStr(limit=3,default = \"hello\")"
   ]
  },
  {
   "cell_type": "code",
   "execution_count": 30,
   "id": "9a3eae08",
   "metadata": {},
   "outputs": [
    {
     "name": "stdout",
     "output_type": "stream",
     "text": [
      "hello\n"
     ]
    }
   ],
   "source": [
    "print(name)"
   ]
  },
  {
   "cell_type": "markdown",
   "id": "4d2829e8",
   "metadata": {},
   "source": [
    "The function will return default value as 'hello'"
   ]
  },
  {
   "cell_type": "code",
   "execution_count": null,
   "id": "76d77d9b",
   "metadata": {},
   "outputs": [],
   "source": []
  },
  {
   "cell_type": "code",
   "execution_count": null,
   "id": "f8122860",
   "metadata": {},
   "outputs": [],
   "source": []
  }
 ],
 "metadata": {
  "kernelspec": {
   "display_name": "Python 3 (ipykernel)",
   "language": "python",
   "name": "python3"
  },
  "language_info": {
   "codemirror_mode": {
    "name": "ipython",
    "version": 3
   },
   "file_extension": ".py",
   "mimetype": "text/x-python",
   "name": "python",
   "nbconvert_exporter": "python",
   "pygments_lexer": "ipython3",
   "version": "3.9.12"
  }
 },
 "nbformat": 4,
 "nbformat_minor": 5
}
