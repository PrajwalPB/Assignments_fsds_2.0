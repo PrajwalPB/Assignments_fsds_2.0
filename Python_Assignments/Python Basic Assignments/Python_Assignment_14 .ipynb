{
 "cells": [
  {
   "cell_type": "code",
   "execution_count": null,
   "id": "f5f26973",
   "metadata": {},
   "outputs": [],
   "source": [
    "1. What does RGBA stand for?"
   ]
  },
  {
   "cell_type": "code",
   "execution_count": null,
   "id": "5aca7804",
   "metadata": {},
   "outputs": [],
   "source": [
    "RGBA stands for red green blue alpha"
   ]
  },
  {
   "cell_type": "code",
   "execution_count": null,
   "id": "30d3b91c",
   "metadata": {},
   "outputs": [],
   "source": [
    "2. From the Pillow module, how do you get the RGBA value of any images?"
   ]
  },
  {
   "cell_type": "code",
   "execution_count": 16,
   "id": "4a31719e",
   "metadata": {},
   "outputs": [
    {
     "name": "stdout",
     "output_type": "stream",
     "text": [
      "mode is RGBA\n",
      "rgb values are<bound method Image.getcolors of <PIL.PngImagePlugin.PngImageFile image mode=RGBA size=1920x1080 at 0x274F79333A0>>\n",
      "None\n"
     ]
    }
   ],
   "source": [
    "from PIL import Image\n",
    "path = \"C:\\\\Users\\\\Prajwal\\\\image.png\"\n",
    "img = Image.open(path)\n",
    "print(f'mode is {img.mode}')\n",
    "print(f'rgb values are{img.getcolors}')\n",
    "\n",
    "#ImageColor.getcolor() gives rgba value of any image"
   ]
  },
  {
   "cell_type": "code",
   "execution_count": null,
   "id": "539a9c76",
   "metadata": {},
   "outputs": [],
   "source": [
    "3. What is a box tuple, and how does it work?"
   ]
  },
  {
   "cell_type": "code",
   "execution_count": null,
   "id": "b10aacae",
   "metadata": {},
   "outputs": [],
   "source": [
    "The box.tuple submodule provides read-only access for the tuple userdata type. It allows, for a single tuple\n",
    "selective retrieval of the field contents, retrieval of information about size, iteration over all the fields"
   ]
  },
  {
   "cell_type": "code",
   "execution_count": null,
   "id": "fc4d203e",
   "metadata": {},
   "outputs": [],
   "source": [
    "4. Use your image and load in notebook then, How can you find out the width and height of an\n",
    "Image object?"
   ]
  },
  {
   "cell_type": "code",
   "execution_count": 25,
   "id": "dfafab13",
   "metadata": {},
   "outputs": [
    {
     "name": "stdout",
     "output_type": "stream",
     "text": [
      "The width and height of image is 1920x1080\n"
     ]
    }
   ],
   "source": [
    "from PIL import Image\n",
    "path = \"C:\\\\Users\\\\Prajwal\\\\image.png\"\n",
    "img = Image.open(path)\n",
    "print(f'The width and height of image is {img.width}x{img.height}')"
   ]
  },
  {
   "cell_type": "code",
   "execution_count": null,
   "id": "85ae8759",
   "metadata": {},
   "outputs": [],
   "source": [
    "5. What method would you call to get Image object for a 100×100 image, excluding the lower-left\n",
    "quarter of it?"
   ]
  },
  {
   "cell_type": "code",
   "execution_count": 35,
   "id": "69e1e136",
   "metadata": {},
   "outputs": [
    {
     "name": "stdout",
     "output_type": "stream",
     "text": [
      "50x50\n"
     ]
    }
   ],
   "source": [
    "#By using crop method \n",
    "path = \"C:\\\\Users\\\\Prajwal\\\\image.png\"\n",
    "img = Image.open(path)\n",
    "new_image = img.crop((50,50,100,100))\n",
    "print(f'{new_image.width}x{new_image.height}')"
   ]
  },
  {
   "cell_type": "code",
   "execution_count": null,
   "id": "e5b5c1a0",
   "metadata": {},
   "outputs": [],
   "source": [
    "6. After making changes to an Image object, how could you save it as an image file?"
   ]
  },
  {
   "cell_type": "code",
   "execution_count": null,
   "id": "2b68832e",
   "metadata": {},
   "outputs": [],
   "source": [
    "After making the changes on an image You simply call save() and pass in the name you want used to save your image."
   ]
  },
  {
   "cell_type": "code",
   "execution_count": null,
   "id": "c8c58903",
   "metadata": {},
   "outputs": [],
   "source": [
    "7. What module contains Pillow’s shape-drawing code?"
   ]
  },
  {
   "cell_type": "code",
   "execution_count": null,
   "id": "a380cfba",
   "metadata": {},
   "outputs": [],
   "source": [
    " Pillows ImageDraw module contains Shape drawing methods"
   ]
  },
  {
   "cell_type": "code",
   "execution_count": null,
   "id": "1fafe8c9",
   "metadata": {},
   "outputs": [],
   "source": [
    "8. Image objects do not have drawing methods. What kind of object does? How do you get this kind\n",
    "of object?"
   ]
  },
  {
   "cell_type": "code",
   "execution_count": null,
   "id": "878ca587",
   "metadata": {},
   "outputs": [],
   "source": [
    "ImageDraw objects have shape-drawing methods such as point(), line(), or rectangle().\n",
    "They are returned by passing the Image object to the ImageDraw.Draw() function."
   ]
  }
 ],
 "metadata": {
  "kernelspec": {
   "display_name": "Python 3 (ipykernel)",
   "language": "python",
   "name": "python3"
  },
  "language_info": {
   "codemirror_mode": {
    "name": "ipython",
    "version": 3
   },
   "file_extension": ".py",
   "mimetype": "text/x-python",
   "name": "python",
   "nbconvert_exporter": "python",
   "pygments_lexer": "ipython3",
   "version": "3.9.13"
  }
 },
 "nbformat": 4,
 "nbformat_minor": 5
}
