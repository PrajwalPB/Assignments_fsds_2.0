{
 "cells": [
  {
   "cell_type": "markdown",
   "id": "53e65f59",
   "metadata": {},
   "source": [
    "1. Assign the value 7 to the variable guess_me. Then, write the conditional tests (if, else, and elif) to\n",
    "print the string &#39;too low&#39; if guess_me is less than 7, &#39;too high&#39; if greater than 7, and &#39;just right&#39; if equal\n",
    "to 7."
   ]
  },
  {
   "cell_type": "code",
   "execution_count": 1,
   "id": "15a47d3d",
   "metadata": {},
   "outputs": [
    {
     "name": "stdout",
     "output_type": "stream",
     "text": [
      "just right\n"
     ]
    }
   ],
   "source": [
    "guess_me = 7\n",
    "if guess_me == 7:\n",
    "    print('just right')\n",
    "elif guess_me < 7:\n",
    "    print('too low')\n",
    "else:\n",
    "    print('too high')"
   ]
  },
  {
   "cell_type": "markdown",
   "id": "c7f6a484",
   "metadata": {},
   "source": [
    "2. Assign the value 7 to the variable guess_me and the value 1 to the variable start. Write a while\n",
    "loop that compares start with guess_me. Print too low if start is less than guess me. If start equals\n",
    "guess_me, print &#39;found it!&#39; and exit the loop. If start is greater than guess_me, print &#39;oops&#39; and exit\n",
    "the loop. Increment start at the end of the loop."
   ]
  },
  {
   "cell_type": "code",
   "execution_count": 10,
   "id": "6e22760a",
   "metadata": {},
   "outputs": [
    {
     "name": "stdout",
     "output_type": "stream",
     "text": [
      "too low\n",
      "too low\n",
      "too low\n",
      "too low\n",
      "too low\n",
      "too low\n",
      "found it\n"
     ]
    }
   ],
   "source": [
    "guess_me = 7\n",
    "start = 1\n",
    "while True:\n",
    "    if start < guess_me:\n",
    "        print('too low')\n",
    "    elif start == guess_me:\n",
    "        print('found it')\n",
    "        break\n",
    "    elif start > guess_me:\n",
    "        print('oops')\n",
    "        break\n",
    "    start += 1"
   ]
  },
  {
   "cell_type": "markdown",
   "id": "2742b007",
   "metadata": {},
   "source": [
    "3. Print the following values of the list [3, 2, 1, 0] using a for loop."
   ]
  },
  {
   "cell_type": "code",
   "execution_count": 13,
   "id": "f6739fe8",
   "metadata": {},
   "outputs": [
    {
     "name": "stdout",
     "output_type": "stream",
     "text": [
      "3\n",
      "2\n",
      "1\n",
      "0\n"
     ]
    }
   ],
   "source": [
    "def print_values(l1):\n",
    "    for i in l1:\n",
    "        print(i)\n",
    "def main():\n",
    "    l1 = [3,2,1,0]\n",
    "    print_values(l1)\n",
    "main()"
   ]
  },
  {
   "cell_type": "markdown",
   "id": "a18ccafe",
   "metadata": {},
   "source": [
    "4. Use a list comprehension to make a list of the even numbers in range(10)"
   ]
  },
  {
   "cell_type": "code",
   "execution_count": 17,
   "id": "b53d34b6",
   "metadata": {},
   "outputs": [
    {
     "name": "stdout",
     "output_type": "stream",
     "text": [
      "[0, 2, 4, 6, 8, 10]\n"
     ]
    }
   ],
   "source": [
    "def pp():\n",
    "    print([i for i in range(10+1) if i % 2==0])\n",
    "pp()"
   ]
  },
  {
   "cell_type": "markdown",
   "id": "492a8680",
   "metadata": {},
   "source": [
    "5. Use a dictionary comprehension to create the dictionary squares. Use range(10) to return the\n",
    "keys, and use the square of each key as its value."
   ]
  },
  {
   "cell_type": "code",
   "execution_count": 21,
   "id": "83a1c13f",
   "metadata": {},
   "outputs": [
    {
     "name": "stdout",
     "output_type": "stream",
     "text": [
      "{0: 0, 1: 1, 2: 4, 3: 9, 4: 16, 5: 25, 6: 36, 7: 49, 8: 64, 9: 81}\n"
     ]
    }
   ],
   "source": [
    "print({i:i**2 for i in range(10)})"
   ]
  },
  {
   "cell_type": "markdown",
   "id": "f12edcb5",
   "metadata": {},
   "source": [
    "6. Construct the set odd from the odd numbers in the range using a set comprehension (10)."
   ]
  },
  {
   "cell_type": "code",
   "execution_count": 23,
   "id": "c3c5ca2d",
   "metadata": {},
   "outputs": [
    {
     "name": "stdout",
     "output_type": "stream",
     "text": [
      "{1, 3, 5, 7, 9}\n"
     ]
    }
   ],
   "source": [
    "def set_print():\n",
    "    print({i for i in range(10) if i%2 != 0})\n",
    "set_print()"
   ]
  },
  {
   "cell_type": "markdown",
   "id": "00b9c407",
   "metadata": {},
   "source": [
    "7. Use a generator comprehension to return the string &#39;Got &#39; and a number for the numbers in\n",
    "range(10). Iterate through this by using a for loop."
   ]
  },
  {
   "cell_type": "code",
   "execution_count": 26,
   "id": "4b0cbaaa",
   "metadata": {},
   "outputs": [
    {
     "name": "stdout",
     "output_type": "stream",
     "text": [
      "Got0\n",
      "Got1\n",
      "Got2\n",
      "Got3\n",
      "Got4\n",
      "Got5\n",
      "Got6\n",
      "Got7\n",
      "Got8\n",
      "Got9\n"
     ]
    }
   ],
   "source": [
    "gen = ('Got'+ str(i) for i in range(10))\n",
    "for j in gen:\n",
    "    print(j)"
   ]
  },
  {
   "cell_type": "markdown",
   "id": "712bf38d",
   "metadata": {},
   "source": [
    "8. Define a function called good that returns the list [&#39;Harry&#39;, &#39;Ron&#39;, &#39;Hermione&#39;]."
   ]
  },
  {
   "cell_type": "code",
   "execution_count": 28,
   "id": "ee35b71e",
   "metadata": {},
   "outputs": [
    {
     "data": {
      "text/plain": [
       "['Harry', 'Ron', 'Hermione']"
      ]
     },
     "execution_count": 28,
     "metadata": {},
     "output_type": "execute_result"
    }
   ],
   "source": [
    "def good():\n",
    "    l1 =['Harry', 'Ron', 'Hermione']\n",
    "    return l1\n",
    "\n",
    "good()"
   ]
  },
  {
   "cell_type": "markdown",
   "id": "e12ac3e4",
   "metadata": {},
   "source": [
    "9. Define a generator function called get_odds that returns the odd numbers from range(10). Use a\n",
    "for loop to find and print the third value returned."
   ]
  },
  {
   "cell_type": "code",
   "execution_count": 43,
   "id": "8db629a5",
   "metadata": {},
   "outputs": [
    {
     "data": {
      "text/plain": [
       "5"
      ]
     },
     "execution_count": 43,
     "metadata": {},
     "output_type": "execute_result"
    }
   ],
   "source": [
    "def get_odds():\n",
    "    l1 = []\n",
    "    for i in range(10+1):\n",
    "        if i % 2 != 0:\n",
    "            l1.append(i)\n",
    "    yield l1\n",
    "\n",
    "next(get_odds())[2]"
   ]
  },
  {
   "cell_type": "markdown",
   "id": "ba4c2a3c",
   "metadata": {},
   "source": [
    "10. Define an exception called OopsException. Raise this exception to see what happens. Then write\n",
    "the code to catch this exception and print &#39;Caught an oops&#39;."
   ]
  },
  {
   "cell_type": "code",
   "execution_count": 55,
   "id": "fc187f84",
   "metadata": {},
   "outputs": [
    {
     "name": "stdout",
     "output_type": "stream",
     "text": [
      "caught an oops name 'a' is not defined\n"
     ]
    }
   ],
   "source": [
    "class OopsException(Exception):\n",
    "    pass\n",
    "\n",
    "def test(num):\n",
    "    if num <0:\n",
    "        raise OopsException(a)\n",
    "try:\n",
    "    test(-100)\n",
    "except Exception as e:\n",
    "    print('caught an oops',e)"
   ]
  },
  {
   "cell_type": "markdown",
   "id": "c8a4d322",
   "metadata": {},
   "source": [
    "11. Use zip() to make a dictionary called movies that pairs these lists: titles = [&#39;Creature of Habit&#39;,\n",
    "&#39;Crewel Fate&#39;] and plots = [&#39;A nun turns into a monster&#39;, &#39;A haunted yarn shop&#39;]."
   ]
  },
  {
   "cell_type": "code",
   "execution_count": 58,
   "id": "c977cd1f",
   "metadata": {},
   "outputs": [
    {
     "name": "stdout",
     "output_type": "stream",
     "text": [
      "{'Creature of Habit': 'A nun turns into a monster', 'Crewel Fate': 'A haunted yarn shop'}\n"
     ]
    }
   ],
   "source": [
    "titles = ['Creature of Habit', 'Crewel Fate'] \n",
    "plots = ['A nun turns into a monster', 'A haunted yarn shop']\n",
    "d1 = dict(zip(titles , plots))\n",
    "print(d1)"
   ]
  },
  {
   "cell_type": "code",
   "execution_count": null,
   "id": "fc3e49b8",
   "metadata": {},
   "outputs": [],
   "source": []
  }
 ],
 "metadata": {
  "kernelspec": {
   "display_name": "Python 3 (ipykernel)",
   "language": "python",
   "name": "python3"
  },
  "language_info": {
   "codemirror_mode": {
    "name": "ipython",
    "version": 3
   },
   "file_extension": ".py",
   "mimetype": "text/x-python",
   "name": "python",
   "nbconvert_exporter": "python",
   "pygments_lexer": "ipython3",
   "version": "3.9.13"
  }
 },
 "nbformat": 4,
 "nbformat_minor": 5
}
